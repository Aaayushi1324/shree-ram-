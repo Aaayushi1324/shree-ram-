{
 "cells": [
  {
   "cell_type": "code",
   "execution_count": 2,
   "id": "69b9c8d5",
   "metadata": {},
   "outputs": [
    {
     "name": "stdout",
     "output_type": "stream",
     "text": [
      "Requirement already satisfied: pygame in c:\\users\\ayush\\anaconda3\\lib\\site-packages (2.5.2)\n"
     ]
    },
    {
     "name": "stderr",
     "output_type": "stream",
     "text": [
      "WARNING: Ignoring invalid distribution -ygments (c:\\users\\ayush\\anaconda3\\lib\\site-packages)\n",
      "WARNING: Ignoring invalid distribution -ygments (c:\\users\\ayush\\anaconda3\\lib\\site-packages)\n",
      "WARNING: Ignoring invalid distribution -ygments (c:\\users\\ayush\\anaconda3\\lib\\site-packages)\n",
      "WARNING: Ignoring invalid distribution -ygments (c:\\users\\ayush\\anaconda3\\lib\\site-packages)\n",
      "WARNING: Ignoring invalid distribution -ygments (c:\\users\\ayush\\anaconda3\\lib\\site-packages)\n",
      "WARNING: Ignoring invalid distribution -ygments (c:\\users\\ayush\\anaconda3\\lib\\site-packages)\n"
     ]
    },
    {
     "ename": "Terminator",
     "evalue": "",
     "output_type": "error",
     "traceback": [
      "\u001b[1;31m---------------------------------------------------------------------------\u001b[0m",
      "\u001b[1;31mTerminator\u001b[0m                                Traceback (most recent call last)",
      "Cell \u001b[1;32mIn[2], line 4\u001b[0m\n\u001b[0;32m      1\u001b[0m get_ipython()\u001b[38;5;241m.\u001b[39msystem(\u001b[38;5;124m'\u001b[39m\u001b[38;5;124mpip3 install pygame\u001b[39m\u001b[38;5;124m'\u001b[39m)\n\u001b[0;32m      3\u001b[0m \u001b[38;5;28;01mfrom\u001b[39;00m \u001b[38;5;21;01mturtle\u001b[39;00m \u001b[38;5;28;01mimport\u001b[39;00m\u001b[38;5;241m*\u001b[39m \n\u001b[1;32m----> 4\u001b[0m \u001b[43mtitle\u001b[49m\u001b[43m(\u001b[49m\u001b[38;5;124;43m'\u001b[39;49m\u001b[38;5;124;43mJai Shree Ram\u001b[39;49m\u001b[38;5;124;43m'\u001b[39;49m\u001b[43m)\u001b[49m\n\u001b[0;32m      5\u001b[0m bgcolor(\u001b[38;5;124m'\u001b[39m\u001b[38;5;124mblack\u001b[39m\u001b[38;5;124m'\u001b[39m)\n\u001b[0;32m      6\u001b[0m pensize(\u001b[38;5;241m5\u001b[39m)\n",
      "File \u001b[1;32m<string>:5\u001b[0m, in \u001b[0;36mtitle\u001b[1;34m(titlestring)\u001b[0m\n",
      "\u001b[1;31mTerminator\u001b[0m: "
     ]
    }
   ],
   "source": [
    "!pip3 install pygame\n",
    "\n",
    "from turtle import* \n",
    "title('Jai Shree Ram')\n",
    "bgcolor('black')\n",
    "pensize(5)\n",
    "pencolor(\"orange\")\n",
    "\n",
    "import pygame\n",
    "# Initialize Pygame mixer\n",
    "pygame.mixer.init()\n",
    "\n",
    "# Load background music file\n",
    "pygame.mixer.music.load(\"C:\\_Ram Siya Ram_192(PagalWorld.com.cm).mp3\")\n",
    "\n",
    "# Start playing the background music\n",
    "pygame.mixer.music.play(-1)  # -1 plays the music on loop\n",
    "\n",
    "# draw 49 bar circle me Jai Shree Ram\n",
    "Ram_naam = [\"जय श्री राम\",\"जय श्री राम\",\"जय श्री राम\",\n",
    "\"जय श्री राम\",\"जय श्री राम\",\"जय श्री राम\",\"जय श्री राम\",\n",
    "\"जय श्री राम\",\"जय श्री राम\",\"जय श्री राम\",\"जय श्री राम\",\n",
    "\"जय श्री राम\",\"जय श्री राम\",\"जय श्री राम\",\"जय श्री राम\",\n",
    "\"जय श्री राम\",\"जय श्री राम\",\"जय श्री राम\",\"जय श्री राम\",\n",
    "\"जय श्री राम\",\"जय श्री राम\",\"जय श्री राम\",\"जय श्री राम\",\n",
    "\"जय श्री राम\",\"जय श्री राम\",\"जय श्री राम\",\"जय श्री राम\",\n",
    "\"जय श्री राम\",\"जय श्री राम\",\"जय श्री राम\",\"जय श्री राम\",\n",
    "\"जय श्री राम\",\"जय श्री राम\",\"जय श्री राम\",\"जय श्री राम\",\n",
    "\"जय श्री राम\",\"जय श्री राम\",\"जय श्री राम\",\"जय श्री राम\",\n",
    "\"जय श्री राम\",\"जय श्री राम\",\"जय श्री राम\",\"जय श्री राम\",\n",
    "\"जय श्री राम\",\"जय श्री राम\",\"जय श्री राम\",\"जय श्री राम\",\n",
    "\"जय श्री राम\",\"जय श्री राम\",\"जय श्री राम\",\"जय श्री राम\",\n",
    "\"जय श्री राम\",\"जय श्री राम\",\"जय श्री राम\",\"जय श्री राम\",\n",
    "\"जय श्री राम\",\"जय श्री राम\"]\n",
    "# 360 angle ko set karna\n",
    "angle = 360/49\n",
    "penup()\n",
    "sety(-1)\n",
    "for i in range(50):\n",
    "    left(angle)\n",
    "    forward(260)\n",
    "    write(Ram_naam[i], align=\"right\",\n",
    "    font=('Arial',12,\"bold\"))\n",
    "    backward(260)\n",
    "\n",
    "# circle k bick me ram naam\n",
    "penup()    \n",
    "goto(-40,-20)\n",
    "pendown()\n",
    "write(\"|| राम ||\", font=(\"Arial\", 60,\n",
    "\"normal\"), align=\"center\")\n",
    "hideturtle()\n",
    "pygame.mixer.music.stop()\n",
    "done()\n"
   ]
  },
  {
   "cell_type": "code",
   "execution_count": null,
   "id": "8b7379ad",
   "metadata": {},
   "outputs": [],
   "source": []
  },
  {
   "cell_type": "code",
   "execution_count": null,
   "id": "46c69aa6",
   "metadata": {},
   "outputs": [],
   "source": []
  }
 ],
 "metadata": {
  "kernelspec": {
   "display_name": "Python 3 (ipykernel)",
   "language": "python",
   "name": "python3"
  },
  "language_info": {
   "codemirror_mode": {
    "name": "ipython",
    "version": 3
   },
   "file_extension": ".py",
   "mimetype": "text/x-python",
   "name": "python",
   "nbconvert_exporter": "python",
   "pygments_lexer": "ipython3",
   "version": "3.10.9"
  }
 },
 "nbformat": 4,
 "nbformat_minor": 5
}
